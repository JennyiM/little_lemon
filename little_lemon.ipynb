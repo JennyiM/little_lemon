{
 "cells": [
  {
   "cell_type": "code",
   "execution_count": 10,
   "metadata": {},
   "outputs": [
    {
     "name": "stdout",
     "output_type": "stream",
     "text": [
      "Collecting mysql-connector-python\n",
      "  Downloading mysql_connector_python-8.1.0-cp311-cp311-win_amd64.whl (10.8 MB)\n",
      "     --------------------------------------- 10.8/10.8 MB 73.0 MB/s eta 0:00:00\n",
      "Collecting protobuf<=4.21.12,>=4.21.1\n",
      "  Downloading protobuf-4.21.12-cp310-abi3-win_amd64.whl (527 kB)\n",
      "     ------------------------------------- 527.0/527.0 kB 32.3 MB/s eta 0:00:00\n",
      "Installing collected packages: protobuf, mysql-connector-python\n",
      "Successfully installed mysql-connector-python-8.1.0 protobuf-4.21.12\n",
      "Note: you may need to restart the kernel to use updated packages.\n"
     ]
    },
    {
     "name": "stderr",
     "output_type": "stream",
     "text": [
      "\n",
      "[notice] A new release of pip available: 22.3.1 -> 23.2.1\n",
      "[notice] To update, run: python.exe -m pip install --upgrade pip\n"
     ]
    }
   ],
   "source": [
    "pip install mysql-connector-python"
   ]
  },
  {
   "cell_type": "code",
   "execution_count": 11,
   "metadata": {},
   "outputs": [
    {
     "name": "stdout",
     "output_type": "stream",
     "text": [
      "Name: mysql-connector-python\n",
      "Version: 8.1.0\n",
      "Summary: MySQL driver written in Python\n",
      "Home-page: http://dev.mysql.com/doc/connector-python/en/index.html\n",
      "Author: Oracle and/or its affiliates\n",
      "Author-email: \n",
      "License: GNU GPLv2 (with FOSS License Exception)\n",
      "Location: c:\\Users\\Ma\\AppData\\Local\\Programs\\Python\\Python311\\Lib\\site-packages\n",
      "Requires: protobuf\n",
      "Required-by: \n",
      "Note: you may need to restart the kernel to use updated packages.\n"
     ]
    }
   ],
   "source": [
    "pip show mysql-connector-python"
   ]
  },
  {
   "cell_type": "code",
   "execution_count": null,
   "metadata": {},
   "outputs": [],
   "source": [
    "pip list"
   ]
  },
  {
   "cell_type": "code",
   "execution_count": 3,
   "metadata": {},
   "outputs": [],
   "source": [
    "import mysql.connector as connector\n",
    "connection=connector.connect(user=\"root\",password=\"1234\",host='127.0.0.1',port=3306)"
   ]
  },
  {
   "cell_type": "code",
   "execution_count": 4,
   "metadata": {},
   "outputs": [],
   "source": [
    "cursor = connection.cursor()"
   ]
  },
  {
   "cell_type": "code",
   "execution_count": 5,
   "metadata": {},
   "outputs": [
    {
     "name": "stdout",
     "output_type": "stream",
     "text": [
      "Create database little_lemon_db\n"
     ]
    }
   ],
   "source": [
    "print('Create database little_lemon_db')\n",
    "cursor.execute(\"CREATE DATABASE little_lemon_db\")\n"
   ]
  },
  {
   "cell_type": "code",
   "execution_count": 6,
   "metadata": {},
   "outputs": [
    {
     "name": "stdout",
     "output_type": "stream",
     "text": [
      "change to little_lemon_db\n"
     ]
    }
   ],
   "source": [
    "print('change to little_lemon_db')\n",
    "cursor.execute(\"USE little_lemon_db\")"
   ]
  },
  {
   "cell_type": "code",
   "execution_count": 10,
   "metadata": {},
   "outputs": [],
   "source": [
    "create_menuitem_table = \"\"\"CREATE TABLE MenuItems (\n",
    "ItemID INT AUTO_INCREMENT,\n",
    "Name VARCHAR(200),\n",
    "Type VARCHAR(100),\n",
    "Price INT,\n",
    "PRIMARY KEY (ItemID)\n",
    ");\"\"\""
   ]
  },
  {
   "cell_type": "code",
   "execution_count": 11,
   "metadata": {},
   "outputs": [],
   "source": [
    "create_menu_table = \"\"\"CREATE TABLE Menus (\n",
    "MenuID INT,\n",
    "ItemID INT,\n",
    "Cuisine VARCHAR(100),\n",
    "PRIMARY KEY (MenuID,ItemID)\n",
    ");\"\"\""
   ]
  },
  {
   "cell_type": "code",
   "execution_count": 12,
   "metadata": {},
   "outputs": [],
   "source": [
    "create_booking_table = \"\"\"CREATE TABLE Bookings (\n",
    "BookingID INT AUTO_INCREMENT,\n",
    "TableNo INT,\n",
    "GuestFirstName VARCHAR(100) NOT NULL,\n",
    "GuestLastName VARCHAR(100) NOT NULL,\n",
    "BookingSlot TIME NOT NULL,\n",
    "EmployeeID INT,\n",
    "PRIMARY KEY (BookingID)\n",
    ");\"\"\""
   ]
  },
  {
   "cell_type": "code",
   "execution_count": 13,
   "metadata": {},
   "outputs": [],
   "source": [
    "create_orders_table = \"\"\"CREATE TABLE Orders (\n",
    "OrderID INT,\n",
    "TableNo INT,\n",
    "MenuID INT,\n",
    "BookingID INT,\n",
    "BillAmount INT,\n",
    "Quantity INT,\n",
    "PRIMARY KEY (OrderID,TableNo)\n",
    ");\"\"\""
   ]
  },
  {
   "cell_type": "code",
   "execution_count": 14,
   "metadata": {},
   "outputs": [],
   "source": [
    "create_employees_table = \"\"\"CREATE TABLE Employees (\n",
    "EmployeeID INT AUTO_INCREMENT PRIMARY KEY,\n",
    "Name VARCHAR (255),\n",
    "Role VARCHAR (100),\n",
    "Address VARCHAR (255),\n",
    "Contact_Number INT,\n",
    "Email VARCHAR (255),\n",
    "Annual_Salary VARCHAR (100)\n",
    ");\"\"\""
   ]
  },
  {
   "cell_type": "code",
   "execution_count": 16,
   "metadata": {},
   "outputs": [
    {
     "name": "stdout",
     "output_type": "stream",
     "text": [
      "create menuitem table....\n",
      "create menu table.....\n",
      "create booking table.....\n",
      "create orders table.....\n",
      "create employees table.....\n"
     ]
    }
   ],
   "source": [
    "print('create menuitem table....')\n",
    "cursor.execute(create_menuitem_table)\n",
    "\n",
    "# Create Menu table\n",
    "print('create menu table.....')\n",
    "cursor.execute(create_menu_table)\n",
    "\n",
    "# Create Bookings table\n",
    "print('create booking table.....')\n",
    "cursor.execute(create_booking_table)\n",
    "\n",
    "# Create Orders table\n",
    "print('create orders table.....')\n",
    "cursor.execute(create_orders_table)\n",
    "\n",
    "# Create Employees table\n",
    "print('create employees table.....')\n",
    "cursor.execute(create_employees_table)"
   ]
  },
  {
   "cell_type": "code",
   "execution_count": 20,
   "metadata": {},
   "outputs": [],
   "source": [
    "#*******************************************************#\n",
    "# Insert query to populate \"MenuItems\" table:\n",
    "#*******************************************************#\n",
    "insert_menuitems=\"\"\"\n",
    "INSERT INTO MenuItems (ItemID, Name, Type, Price)\n",
    "VALUES\n",
    "(1, 'Olives','Starters',5),\n",
    "(2, 'Flatbread','Starters', 5),\n",
    "(3, 'Minestrone', 'Starters', 8),\n",
    "(4, 'Tomato bread','Starters', 8),\n",
    "(5, 'Falafel', 'Starters', 7),\n",
    "(6, 'Hummus', 'Starters', 5),\n",
    "(7, 'Greek salad', 'Main Courses', 15),\n",
    "(8, 'Bean soup', 'Main Courses', 12),\n",
    "(9, 'Pizza', 'Main Courses', 15),\n",
    "(10, 'Greek yoghurt','Desserts', 7),\n",
    "(11, 'Ice cream', 'Desserts', 6),\n",
    "(12, 'Cheesecake', 'Desserts', 4),\n",
    "(13, 'Athens White wine', 'Drinks', 25),\n",
    "(14, 'Corfu Red Wine', 'Drinks', 30),\n",
    "(15, 'Turkish Coffee', 'Drinks', 10),\n",
    "(16, 'Turkish Coffee', 'Drinks', 10),\n",
    "(17, 'Kabasa', 'Main Courses', 17);\"\"\"\n",
    "\n",
    "#*******************************************************#\n",
    "# Insert query to populate \"Menu\" table:\n",
    "#*******************************************************#\n",
    "insert_menu=\"\"\"\n",
    "INSERT INTO Menus (MenuID,ItemID,Cuisine)\n",
    "VALUES\n",
    "(1, 1, 'Greek'),\n",
    "(1, 7, 'Greek'),\n",
    "(1, 10, 'Greek'),\n",
    "(1, 13, 'Greek'),\n",
    "(2, 3, 'Italian'),\n",
    "(2, 9, 'Italian'),\n",
    "(2, 12, 'Italian'),\n",
    "(2, 15, 'Italian'),\n",
    "(3, 5, 'Turkish'),\n",
    "(3, 17, 'Turkish'),\n",
    "(3, 11, 'Turkish'),\n",
    "(3, 16, 'Turkish');\"\"\"\n",
    "\n",
    "#*******************************************************#\n",
    "# Insert query to populate \"Bookings\" table:\n",
    "#*******************************************************#\n",
    "insert_bookings=\"\"\"\n",
    "INSERT INTO Bookings (BookingID, TableNo, GuestFirstName, \n",
    "GuestLastName, BookingSlot, EmployeeID)\n",
    "VALUES\n",
    "(1, 12, 'Anna','Iversen','19:00:00',1),\n",
    "(2, 12, 'Joakim', 'Iversen', '19:00:00', 1),\n",
    "(3, 19, 'Vanessa', 'McCarthy', '15:00:00', 3),\n",
    "(4, 15, 'Marcos', 'Romero', '17:30:00', 4),\n",
    "(5, 5, 'Hiroki', 'Yamane', '18:30:00', 2),\n",
    "(6, 8, 'Diana', 'Pinto', '20:00:00', 5);\"\"\"\n",
    "\n",
    "#*******************************************************#\n",
    "# Insert query to populate \"Orders\" table:\n",
    "#*******************************************************#\n",
    "insert_orders=\"\"\"\n",
    "INSERT INTO Orders (OrderID, TableNo, MenuID, BookingID, Quantity, BillAmount)\n",
    "VALUES\n",
    "(1, 12, 1, 1, 2, 86),\n",
    "(2, 19, 2, 2, 1, 37),\n",
    "(3, 15, 2, 3, 1, 37),\n",
    "(4, 5, 3, 4, 1, 40),\n",
    "(5, 8, 1, 5, 1, 43);\"\"\"\n",
    "\n",
    "#*******************************************************#\n",
    "# Insert query to populate \"Employees\" table:\n",
    "#*******************************************************#\n",
    "insert_employees = \"\"\"\n",
    "INSERT INTO Employees (EmployeeID, Name, Role, Address, Contact_Number, Email, Annual_Salary) \n",
    "VALUES\n",
    "(01,'Mario Gollini','Manager','724, Parsley Lane, Old Town, Chicago, IL',351258074,'Mario.g@littlelemon.com','$70,000'),\n",
    "(02,'Adrian Gollini','Assistant Manager','334, Dill Square, Lincoln Park, Chicago, IL',351474048,'Adrian.g@littlelemon.com','$65,000'),\n",
    "(03,'Giorgos Dioudis','Head Chef','879 Sage Street, West Loop, Chicago, IL',351970582,'Giorgos.d@littlelemon.com','$50,000'),\n",
    "(04,'Fatma Kaya','Assistant Chef','132  Bay Lane, Chicago, IL',351963569,'Fatma.k@littlelemon.com','$45,000'),\n",
    "(05,'Elena Salvai','Head Waiter','989 Thyme Square, EdgeWater, Chicago, IL',351074198,'Elena.s@littlelemon.com','$40,000'),\n",
    "(06,'John Millar','Receptionist','245 Dill Square, Lincoln Park, Chicago, IL',351584508,'John.m@littlelemon.com','$35,000');\"\"\"\n"
   ]
  },
  {
   "cell_type": "code",
   "execution_count": 21,
   "metadata": {},
   "outputs": [
    {
     "name": "stdout",
     "output_type": "stream",
     "text": [
      "insert into menuitems table\n",
      "insert into menu table\n",
      "insert into bookings table\n",
      "insert into orders table\n",
      "insert into employees table\n"
     ]
    }
   ],
   "source": [
    "# Populate MenuItems table\n",
    "print('insert into menuitems table')\n",
    "cursor.execute(insert_menuitems)\n",
    "connection.commit()\n",
    "\n",
    "# Populate MenuItems table\n",
    "print('insert into menu table')\n",
    "cursor.execute(insert_menu)\n",
    "connection.commit()\n",
    "\n",
    "# Populate Bookings table\n",
    "print('insert into bookings table')\n",
    "cursor.execute(insert_bookings)\n",
    "connection.commit()\n",
    "\n",
    "# Populate Orders table\n",
    "print('insert into orders table')\n",
    "cursor.execute(insert_orders)\n",
    "connection.commit()\n",
    "\n",
    "# Populate Employees table\n",
    "print('insert into employees table')\n",
    "cursor.execute(insert_employees)\n",
    "connection.commit()"
   ]
  },
  {
   "cell_type": "markdown",
   "metadata": {},
   "source": [
    "Task 1: Establish a connection \n",
    "Step one: Import MySQLConnectionPool\n",
    "Step two: Import Error\n",
    "Step three: Create a pool named pool_a with two connections. Use a try-except block to handle any possible errors. \n",
    "    Your database configurations are as follows:\n",
    "    dbconfig={\"database\":\"little_lemon_db\", \"user\":\"your_username\", \"password\":\"your_password\"}\n",
    "Step four: Obtain a connection from pool_a and create a cursor object to communicate with the database."
   ]
  },
  {
   "cell_type": "code",
   "execution_count": 5,
   "metadata": {},
   "outputs": [
    {
     "name": "stdout",
     "output_type": "stream",
     "text": [
      "Connection from pool is up\n"
     ]
    }
   ],
   "source": [
    "# Step one: Import MySQLConnectionPool\n",
    "# Step two: Import Error\n",
    "from mysql.connector.pooling import MySQLConnectionPool\n",
    "from mysql.connector import Error\n",
    "\n",
    "# Step three: Create a pool named pool_a with two connections. Use a try-except block to handle any possible errors. \n",
    "#     Your database configurations are as follows:\n",
    "#     dbconfig={\"database\":\"little_lemon_db\", \"user\":\"your_username\", \"password\":\"your_password\"}\n",
    "dbconfig={\"database\":\"little_lemon_db\", \"user\":\"root\", \"password\":\"1234\"}\n",
    "try:\n",
    "    pool = MySQLConnectionPool(pool_name = \"pool_a\",pool_size = 2,**dbconfig)\n",
    "except Error as error:\n",
    "    print('Error:', error.msg)\n",
    "\n",
    "# Step four: Obtain a connection from pool_a and create a cursor object to communicate with the database.\n",
    "\n",
    "guest_connected = pool.get_connection()\n",
    "if guest_connected.is_connected():\n",
    "    cursor=guest_connected.cursor()\n",
    "print('Connection from pool is up')\n"
   ]
  },
  {
   "cell_type": "markdown",
   "metadata": {},
   "source": [
    "Task 2: Implement a stored procedure called PeakHours\n",
    "Step one: Write a SQL CREATE PROCEDURE query for PeakHours\n",
    "    Use HOUR to extract the hour part from the BookingSlot.\n",
    "    Use COUNT on hour to count the number of bookings.\n",
    "    Use GROUP BY on booking hour.\n",
    "    Use ORDER BY on the number of bookings in descending order.\n",
    "Step two: Run the stored procedure query by invoking execute module on the cursor.\n",
    "Step three: Invoke callproc to call the stored procedure.\n",
    "Step four: Fetch the results in a variable called dataset.\n",
    "Step five: Extract the names of the columns.\n",
    "Step six: Print the names of the columns.\n",
    "Step seven: Print the sorted data using for loop.\n",
    "\n"
   ]
  },
  {
   "cell_type": "code",
   "execution_count": 12,
   "metadata": {},
   "outputs": [],
   "source": [
    "# Step one: Write a SQL CREATE PROCEDURE query for PeakHours\n",
    "#     Use HOUR to extract the hour part from the BookingSlot.\n",
    "#     Use COUNT on hour to count the number of bookings.\n",
    "#     Use GROUP BY on booking hour.\n",
    "#     Use ORDER BY on the number of bookings in descending order.\n",
    "peakhour_procedure=\"\"\"\n",
    "CREATE PROCEDURE PeakHours()\n",
    "BEGIN\n",
    "SELECT HOUR(BookingSlot) AS Hour, COUNT(BookingID) AS number_of_bookings_on_hour\n",
    "FROM Bookings\n",
    "GROUP BY Hour\n",
    "ORDER BY number_of_bookings_on_hour DESC;\n",
    "END \n",
    "\"\"\"\n"
   ]
  },
  {
   "cell_type": "code",
   "execution_count": 17,
   "metadata": {},
   "outputs": [],
   "source": [
    "# Step two: Run the stored procedure query by invoking execute module on the cursor.\n",
    "cursor.execute(peakhour_procedure)\n",
    "# cursor.execute(\"\"\"DROP procedure PeakHours;\"\"\")"
   ]
  },
  {
   "cell_type": "code",
   "execution_count": 18,
   "metadata": {},
   "outputs": [
    {
     "data": {
      "text/plain": [
       "()"
      ]
     },
     "execution_count": 18,
     "metadata": {},
     "output_type": "execute_result"
    }
   ],
   "source": [
    "# Step three: Invoke callproc to call the stored procedure.\n",
    "cursor.callproc('PeakHours')"
   ]
  },
  {
   "cell_type": "code",
   "execution_count": 19,
   "metadata": {},
   "outputs": [],
   "source": [
    "# Step four: Fetch the results in a variable called dataset.\n",
    "results = next(cursor.stored_results())\n",
    "dataset=results.fetchall()"
   ]
  },
  {
   "cell_type": "code",
   "execution_count": 23,
   "metadata": {},
   "outputs": [
    {
     "name": "stdout",
     "output_type": "stream",
     "text": [
      "('Hour', 'number_of_bookings_on_hour')\n",
      "(19, 2)\n",
      "(15, 1)\n",
      "(17, 1)\n",
      "(18, 1)\n",
      "(20, 1)\n"
     ]
    }
   ],
   "source": [
    "# Step five: Extract the names of the columns.\n",
    "# Step six: Print the names of the columns.\n",
    "# Step seven: Print the sorted data using for loop.\n",
    "print(results.column_names)\n",
    "for row in dataset:\n",
    "    print(row)"
   ]
  },
  {
   "cell_type": "markdown",
   "metadata": {},
   "source": [
    "Task 3: Implement a stored procedure GuestStatus\n",
    "Step one: Write a SQL CREATE PROCEDURE query for GuestStatus.\n",
    "Step two: Combine the guest’s first and last name from the booking column using CONCAT. \n",
    "Step three: Use CASE to implement the following statuses for each guest’s order:\n",
    "    If the Role in the Employee table is Manager or Assistant Manager then the guest’s order status is Ready to pay\n",
    "    If the Role in the Employee table is Head Chef then the status is Ready to serve\n",
    "    If the Role in the Employee table is Assistant Chef then the status is Preparing Order\n",
    "    If the Role in the Employee table is Head Waiter then the status is Order served\n",
    "Step four: LEFT JOIN Bookings table with Employees ON EmployeeID\n",
    "Step five: Run the stored procedure query by invoking execute module on the cursor.\n",
    "Step six: Invoke callproc to call the stored procedure.\n",
    "Step seven: Fetch the results in a variable called dataset.\n",
    "Step eight: Extract the names of the columns.\n",
    "Step nine: Print the names of the columns.\n",
    "Step ten: Print the sorted data using for loop.\n",
    "Step eleven: Close the connection to return it back to the pool."
   ]
  },
  {
   "cell_type": "code",
   "execution_count": 42,
   "metadata": {},
   "outputs": [],
   "source": [
    "# Step one: Write a SQL CREATE PROCEDURE query for GuestStatus.\n",
    "# Step two: Combine the guest’s first and last name from the booking column using CONCAT. \n",
    "# Step three: Use CASE to implement the following statuses for each guest’s order:\n",
    "#     If the Role in the Employee table is Manager or Assistant Manager then the guest’s order status is Ready to pay\n",
    "#     If the Role in the Employee table is Head Chef then the status is Ready to serve\n",
    "#     If the Role in the Employee table is Assistant Chef then the status is Preparing Order\n",
    "#     If the Role in the Employee table is Head Waiter then the status is Order served\n",
    "# Step four: LEFT JOIN Bookings table with Employees ON EmployeeID\n",
    "gueststatus_procedure=\"\"\"\n",
    "CREATE PROCEDURE GuestStatus()\n",
    "BEGIN\n",
    "SELECT CONCAT(GuestFirstName,' ',GuestLastName) AS GuestName,\n",
    "CASE\n",
    "    WHEN Role = 'Manager' or Role = 'Assistant Manager' THEN 'Ready to pay'\n",
    "    WHEN Role = 'Head Chef' THEN 'Ready to serve'\n",
    "    WHEN Role = 'Assistant Chef' THEN 'Preparing Order'\n",
    "    WHEN Role = 'Head Waiter' THEN 'Order served'\n",
    "    ELSE 'NA'\n",
    "END AS STATUS\n",
    "FROM Bookings \n",
    "LEFT JOIN Employees\n",
    "ON Bookings.EmployeeID = Employees.EmployeeID;\n",
    "END\n",
    "\"\"\""
   ]
  },
  {
   "cell_type": "code",
   "execution_count": 43,
   "metadata": {},
   "outputs": [],
   "source": [
    "# Step five: Run the stored procedure query by invoking execute module on the cursor.\n",
    "cursor.execute(gueststatus_procedure)"
   ]
  },
  {
   "cell_type": "code",
   "execution_count": 44,
   "metadata": {},
   "outputs": [
    {
     "data": {
      "text/plain": [
       "()"
      ]
     },
     "execution_count": 44,
     "metadata": {},
     "output_type": "execute_result"
    }
   ],
   "source": [
    "#Step six: Invoke callproc to call the stored procedure. \n",
    "cursor.callproc('GuestStatus')"
   ]
  },
  {
   "cell_type": "code",
   "execution_count": 45,
   "metadata": {},
   "outputs": [
    {
     "name": "stdout",
     "output_type": "stream",
     "text": [
      "('GuestName', 'STATUS')\n",
      "('Anna Iversen', 'Ready to pay')\n",
      "('Joakim Iversen', 'Ready to pay')\n",
      "('Vanessa McCarthy', 'Ready to serve')\n",
      "('Marcos Romero', 'Preparing Order')\n",
      "('Hiroki Yamane', 'Ready to pay')\n",
      "('Diana Pinto', 'Order served')\n"
     ]
    }
   ],
   "source": [
    "# Step seven: Fetch the results in a variable called dataset.\n",
    "# Step eight: Extract the names of the columns.\n",
    "# Step nine: Print the names of the columns.\n",
    "# Step ten: Print the sorted data using for loop.\n",
    "dataset=next(cursor.stored_results()).fetchall()\n",
    "print(next(cursor.stored_results()).column_names)\n",
    "for row in dataset:\n",
    "    print(row)"
   ]
  },
  {
   "cell_type": "code",
   "execution_count": 47,
   "metadata": {},
   "outputs": [],
   "source": [
    "# Step eleven: Close the connection to return it back to the pool.\n",
    "guest_connected.close()"
   ]
  },
  {
   "cell_type": "markdown",
   "metadata": {},
   "source": [
    "Little Lemon analysis and sales report\n",
    "\n",
    "Task 1:\n",
    "Complete the following steps to establish a connection pool:\n",
    "\n",
    "To create a connection pool, import MySQLConnectionPool class from MySQL Connector/Python.\n",
    "\n",
    "To find the information on the error, import the Error class from MySQL Connector/Python.\n",
    "\n",
    "Define your database configurations as a Python dictionary object called dbconfig.\n",
    "\n",
    "Establish a connection pool [pool_name = pool_b] with two connections. \n",
    "\n",
    "Implement error handling using a try-except block in case the connection fails. \n",
    "\n",
    " "
   ]
  },
  {
   "cell_type": "code",
   "execution_count": 48,
   "metadata": {},
   "outputs": [],
   "source": [
    "from mysql.connector.pooling import MySQLConnectionPool\n",
    "from mysql.connector import Error\n",
    "\n",
    "# Step three: Create a pool named pool_a with two connections. Use a try-except block to handle any possible errors. \n",
    "#     Your database configurations are as follows:\n",
    "#     dbconfig={\"database\":\"little_lemon_db\", \"user\":\"your_username\", \"password\":\"your_password\"}\n",
    "dbconfig={\"database\":\"little_lemon_db\", \"user\":\"root\", \"password\":\"1234\"}\n",
    "try:\n",
    "    pool = MySQLConnectionPool(pool_name = \"pool_b\",pool_size = 2,**dbconfig)\n",
    "except Error as error:\n",
    "    print('Error:', error.msg)"
   ]
  },
  {
   "cell_type": "markdown",
   "metadata": {},
   "source": [
    "Task 2:\n",
    "Three guests are trying to book dinner slots simultaneously. Get the connections from pool_b and insert the following data in the Bookings table:\n",
    "    TIP: You need to add a connection to connect the third guest.\n",
    "Guest 1:\n",
    "Table Number: 8\n",
    "First Name: Anees\n",
    "Last Name: Java\n",
    "Booking Time: 18:00\n",
    "EmployeeID: 6\n",
    "\n",
    "Guest 2:\n",
    "Table Number: 5\n",
    "First Name: Bald\n",
    "Last Name: Vin\n",
    "Booking Time: 19:00\n",
    "EmployeeID: 6\n",
    "\n",
    "Guest 3:\n",
    "Table Number: 12\n",
    "First Name: Jay\n",
    "Last Name: Kon\n",
    "Booking Time: 19:30 \n",
    "EmployeeID: 6\n",
    "\n",
    "Return all the connections back to the pool. \n",
    "    TIP: The pool size is two. However, you have three connected users. You can only return two connections. Returning a third connection will raise a PoolError. Use try-except to print the error message.  \n",
    "\n"
   ]
  },
  {
   "cell_type": "code",
   "execution_count": 50,
   "metadata": {},
   "outputs": [
    {
     "name": "stdout",
     "output_type": "stream",
     "text": [
      "Booking added successfully to Bookings table\n",
      "Booking added successfully to Bookings table\n",
      "Error: Failed getting connection; pool exhausted\n",
      "Adding new connection in pool...\n",
      "A new connection is added in the pool.\n",
      "\n",
      "Booking added successfully to Bookings table\n"
     ]
    }
   ],
   "source": [
    "from mysql.connector.pooling import PoolError\n",
    "guests=guests={'Guest1':\"\"\"INSERT INTO Bookings (TableNo, GuestFirstName, GuestLastName, BookingSlot, EmployeeID)VALUES(8,'Anees','Java','18:00:00',6);\"\"\",\n",
    "               'Guest2':\"\"\"INSERT INTO Bookings (TableNo, GuestFirstName, GuestLastName, BookingSlot, EmployeeID)VALUES(5, 'Bald','Vin','19:00:00',6);\"\"\",\n",
    "               'Guest3':\"\"\"INSERT INTO Bookings (TableNo, GuestFirstName, GuestLastName, BookingSlot, EmployeeID)VALUES(12, 'Jay','Kon','19:30:00',6);\"\"\"}\n",
    "\n",
    "for guest in guests:\n",
    "    try:\n",
    "        connection=pool.get_connection()\n",
    "        cursor=connection.cursor()\n",
    "        cursor.execute(guests[guest])\n",
    "        connection.commit()\n",
    "        print('Booking added successfully to Bookings table.\\n')\n",
    "    except PoolError as error:\n",
    "        print('Error:', error.msg)\n",
    "        print('Adding new connection in pool...')\n",
    "        connection=connector.connect(user=\"root\",password=\"1234\")\n",
    "        pool.add_connection(cnx=connection)\n",
    "        print(\"A new connection is added in the pool.\")\n",
    "        connection=pool.get_connection()\n",
    "        cursor=connection.cursor()\n",
    "        cursor.execute(guests[guest])\n",
    "        connection.commit()\n",
    "        print('Booking added successfully to Bookings table')"
   ]
  },
  {
   "cell_type": "code",
   "execution_count": 58,
   "metadata": {},
   "outputs": [],
   "source": [
    "# connection.close()\n",
    "for guest in guests:\n",
    "    try:\n",
    "        connection=pool.get_connection()\n",
    "        connection.close()\n",
    "    except PoolError as error:\n",
    "        print('Error: ', error.msg)"
   ]
  },
  {
   "cell_type": "markdown",
   "metadata": {},
   "source": [
    "Task 3:\n",
    "Create a report containing the following information:\n",
    "The name and EmployeeID of the Little Lemon manager.\n",
    "The name and role of the employee who receives the highest salary.\n",
    "The number of guests booked between 18:00 and 20:00.\n",
    "The full name and BookingID of all guests waiting to be seated with the receptionist in sorted order with respect to their BookingSlot."
   ]
  },
  {
   "cell_type": "code",
   "execution_count": 106,
   "metadata": {},
   "outputs": [],
   "source": [
    "connection = pool.get_connection()\n",
    "cursor=connection.cursor()"
   ]
  },
  {
   "cell_type": "code",
   "execution_count": 63,
   "metadata": {},
   "outputs": [
    {
     "name": "stdout",
     "output_type": "stream",
     "text": [
      "The name and EmployeeID of the Little Lemon manager\n",
      " ('Name', 'EmployeeID')\n",
      "('Mario Gollini', 1) \n",
      "\n",
      "The name and role of the employee who receives the highest salary.\n",
      " ('Name', 'Role')\n",
      "('Mario Gollini', 'Manager') \n",
      "\n",
      "The number of guests booked between 18:00 and 20:00\n",
      " ('number_of_guests',)\n",
      "(7,) \n",
      "\n",
      "guests waiting to be seated with the receptionist\n",
      " ('GuestName', 'BookingID')\n",
      "('Jay Kon', 9)\n",
      "('Bald Vin', 8)\n",
      "('Anees Java', 7)\n"
     ]
    }
   ],
   "source": [
    "r1 = \"\"\"\n",
    "SELECT Name, EmployeeID \n",
    "FROM Employees\n",
    "WHERE Role = 'Manager';\n",
    "\"\"\"\n",
    "cursor.execute(r1)\n",
    "results=cursor.fetchall()\n",
    "\n",
    "print('The name and EmployeeID of the Little Lemon manager\\n',cursor.column_names)\n",
    "for row in results:\n",
    "    print(row,'\\n')\n",
    "\n",
    "r2 = \"\"\"\n",
    "SELECT Name, Role\n",
    "FROM Employees\n",
    "WHERE Annual_Salary = (SELECT MAX(Annual_Salary) FROM Employees);\n",
    "\"\"\"\n",
    "cursor.execute(r2)\n",
    "results=cursor.fetchall()\n",
    "print('The name and role of the employee who receives the highest salary.\\n',cursor.column_names)\n",
    "for row in results:\n",
    "    print(row,'\\n')\n",
    "\n",
    "r3 = \"\"\"\n",
    "SELECT COUNT(BookingID) AS number_of_guests\n",
    "FROM Bookings\n",
    "WHERE BookingSlot BETWEEN '18:00:00' AND '20:00:00';\n",
    "\"\"\"\n",
    "cursor.execute(r3)\n",
    "results=cursor.fetchall()\n",
    "print('The number of guests booked between 18:00 and 20:00\\n',cursor.column_names)\n",
    "for row in results:\n",
    "    print(row,'\\n')\n",
    "\n",
    "r4=\"\"\"\n",
    "SELECT CONCAT(GuestFirstName, \" \", GuestLastName) AS GuestName, BookingID\n",
    "FROM Bookings\n",
    "LEFT JOIN Employees \n",
    "ON Employees.EmployeeID = Bookings.EmployeeID\n",
    "WHERE Role = \"Receptionist\"\n",
    "ORDER BY BookingSlot DESC;\n",
    "\"\"\"\n",
    "cursor.execute(r4)\n",
    "results=cursor.fetchall()\n",
    "print('guests waiting to be seated with the receptionist\\n',cursor.column_names)\n",
    "for row in results:\n",
    "    print(row)"
   ]
  },
  {
   "cell_type": "markdown",
   "metadata": {},
   "source": [
    "Task 4:\n",
    "Create a stored procedure named BasicSalesReport that returns the following statistics: \n",
    "Total sales\n",
    "Average sale\n",
    "Minimum bill paid\n",
    "Maximum bill paid"
   ]
  },
  {
   "cell_type": "code",
   "execution_count": 75,
   "metadata": {},
   "outputs": [],
   "source": [
    "basicSalesReport_procedure=\"\"\"\n",
    "CREATE PROCEDURE BasicSalesReport()\n",
    "BEGIN\n",
    "SELECT SUM(BillAmount) AS Total_sales,\n",
    "ROUND(AVG(BillAmount),2) AS Average_sale,\n",
    "ROUND(MIN(BillAmount),2) AS Minimum_bill_paid,\n",
    "ROUND(MAX(BillAmount),2) AS Maximum_bill_paid\n",
    "FROM Orders;\n",
    "END\n",
    "\"\"\""
   ]
  },
  {
   "cell_type": "code",
   "execution_count": 77,
   "metadata": {},
   "outputs": [],
   "source": [
    "cursor.execute(basicSalesReport_procedure)\n",
    "# cursor.execute(\"\"\"DROP procedure BasicSalesReport;\"\"\")\n"
   ]
  },
  {
   "cell_type": "code",
   "execution_count": 104,
   "metadata": {},
   "outputs": [
    {
     "name": "stdout",
     "output_type": "stream",
     "text": [
      "Total_sales : 243\n",
      "Average_sale : 48.60\n",
      "Minimum_bill_paid : 37\n",
      "Maximum_bill_paid : 86\n"
     ]
    }
   ],
   "source": [
    "cursor.callproc('BasicSalesReport')\n",
    "dataset = next(cursor.stored_results()).fetchall()\n",
    "\n",
    "results=cursor.stored_results()\n",
    "for column_id in results:\n",
    "    for i in range(len(column_id.description)):\n",
    "        print(column_id.description[i][0], ':' ,dataset[0][i])\n"
   ]
  },
  {
   "cell_type": "code",
   "execution_count": 107,
   "metadata": {},
   "outputs": [
    {
     "name": "stdout",
     "output_type": "stream",
     "text": [
      "The cursor is closed.\n",
      "MySQL connection is closed.\n"
     ]
    }
   ],
   "source": [
    "if connection.is_connected():\n",
    "    cursor.close()\n",
    "    print(\"The cursor is closed.\")\n",
    "    connection.close()\n",
    "    print(\"MySQL connection is closed.\")\n",
    "else:\n",
    "    print(\"Connection is already closed\")"
   ]
  },
  {
   "cell_type": "markdown",
   "metadata": {},
   "source": [
    "Task 5:\n",
    "Little Lemon needs to display the next three upcoming bookings from the Bookings table on the kitchen screen to notify their chefs which orders are due next. To complete this task, carry out the following steps:\n",
    "Get a connection from the pool.\n",
    "Create a buffered cursor.\n",
    "Combine the data from the Bookings and the Employee tables. Sort the retrieved records in ascending order. Then display the information of the first three guests. \n",
    "Returned the connection back to the pool.\n",
    "The output should be as follows:\n",
    "    [BookingSlot]\n",
    "    [Guest_name]\n",
    "    [Assigned to: Employee Name [Employee Role]]"
   ]
  },
  {
   "cell_type": "code",
   "execution_count": 108,
   "metadata": {},
   "outputs": [],
   "source": [
    "connection = pool.get_connection()\n",
    "cursor = connection.cursor(buffered=True)"
   ]
  },
  {
   "cell_type": "code",
   "execution_count": 133,
   "metadata": {},
   "outputs": [],
   "source": [
    "upcoming_booking_query=\"\"\"\n",
    "SELECT Bookings.BookingSlot, CONCAT(GuestFirstName, \" \", GuestLastName) AS Guest_name, CONCAT(Employees.Name,\" [\", Employees.Role,\"]\") AS Assigned_to\n",
    "FROM Bookings\n",
    "INNER JOIN Employees\n",
    "ON Bookings.EmployeeID = Employees.EmployeeID\n",
    "ORDER BY Bookings.BookingSlot;\n",
    "\"\"\""
   ]
  },
  {
   "cell_type": "code",
   "execution_count": 146,
   "metadata": {},
   "outputs": [
    {
     "name": "stdout",
     "output_type": "stream",
     "text": [
      "[BookingSlot] : 15:00:00\n",
      "[Guest_name] : Vanessa McCarthy\n",
      "[Assigned to : Giorgos Dioudis [Head Chef] ]\n",
      "\n",
      "[BookingSlot] : 17:30:00\n",
      "[Guest_name] : Marcos Romero\n",
      "[Assigned to : Fatma Kaya [Assistant Chef] ]\n",
      "\n",
      "[BookingSlot] : 18:00:00\n",
      "[Guest_name] : Anees Java\n",
      "[Assigned to : John Millar [Receptionist] ]\n",
      "\n"
     ]
    }
   ],
   "source": [
    "cursor.execute(upcoming_booking_query)\n",
    "results = cursor.fetchmany(size=3)\n",
    "\n",
    "for result in results:\n",
    "    print(\"[BookingSlot] :\", result[0])\n",
    "    print(\"[Guest_name] :\", result[1])\n",
    "    print(\"[Assigned to :\", result[2],']\\n')"
   ]
  },
  {
   "cell_type": "code",
   "execution_count": 147,
   "metadata": {},
   "outputs": [
    {
     "name": "stdout",
     "output_type": "stream",
     "text": [
      "The cursor is closed.\n",
      "MySQL connection is closed.\n"
     ]
    }
   ],
   "source": [
    "if connection.is_connected():\n",
    "    cursor.close()\n",
    "    print(\"The cursor is closed.\")\n",
    "    connection.close()\n",
    "    print(\"MySQL connection is closed.\")\n",
    "else:\n",
    "    print(\"Connection is already closed\")"
   ]
  }
 ],
 "metadata": {
  "kernelspec": {
   "display_name": "Python 3",
   "language": "python",
   "name": "python3"
  },
  "language_info": {
   "codemirror_mode": {
    "name": "ipython",
    "version": 3
   },
   "file_extension": ".py",
   "mimetype": "text/x-python",
   "name": "python",
   "nbconvert_exporter": "python",
   "pygments_lexer": "ipython3",
   "version": "3.11.2"
  },
  "orig_nbformat": 4
 },
 "nbformat": 4,
 "nbformat_minor": 2
}
